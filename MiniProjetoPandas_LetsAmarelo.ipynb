{
 "cells": [
  {
   "cell_type": "code",
   "execution_count": 2,
   "source": [
    "#Bruna Monteiro\r\n",
    "#Bruno Perrotta\r\n",
    "#Caio Cunha\r\n",
    "#Daniel Pinheiro\r\n",
    "#Ivan Cristian (SOBRENOME???)"
   ],
   "outputs": [],
   "metadata": {}
  },
  {
   "cell_type": "code",
   "execution_count": 3,
   "source": [
    "import pandas as pd\r\n",
    "import numpy as np\r\n",
    "import datetime as dt\r\n",
    "#!pip install missingno\r\n",
    "import missingno as msno\r\n",
    "pd.options.display.max_columns = 35 #para aumentar a quantidade de colunas a serem visualizadas"
   ],
   "outputs": [],
   "metadata": {
    "ExecuteTime": {
     "end_time": "2021-08-18T22:41:48.537020Z",
     "start_time": "2021-08-18T22:41:47.256460Z"
    }
   }
  },
  {
   "cell_type": "code",
   "execution_count": 4,
   "source": [
    "cd = pd.read_csv('https://raw.githubusercontent.com/renatapink/DSdegree/master/Modulo2/Mini_projeto1/cadastro.csv')\r\n",
    "iv1 = pd.read_csv('https://raw.githubusercontent.com/renatapink/DSdegree/master/Modulo2/Mini_projeto1/investimento_parte1.csv')\r\n",
    "iv2 = pd.read_csv('https://raw.githubusercontent.com/renatapink/DSdegree/master/Modulo2/Mini_projeto1/investimento_parte2.csv')"
   ],
   "outputs": [],
   "metadata": {}
  },
  {
   "cell_type": "code",
   "execution_count": 5,
   "source": [
    "cd.info()"
   ],
   "outputs": [
    {
     "output_type": "stream",
     "name": "stdout",
     "text": [
      "<class 'pandas.core.frame.DataFrame'>\n",
      "RangeIndex: 38754 entries, 0 to 38753\n",
      "Data columns (total 9 columns):\n",
      " #   Column    Non-Null Count  Dtype \n",
      "---  ------    --------------  ----- \n",
      " 0   id        38754 non-null  object\n",
      " 1   Nome      38754 non-null  object\n",
      " 2   Sexo      38754 non-null  object\n",
      " 3   Nasc      38754 non-null  object\n",
      " 4   Idade     38754 non-null  int64 \n",
      " 5   Email     38754 non-null  object\n",
      " 6   Lat_long  38754 non-null  object\n",
      " 7   Job       38754 non-null  object\n",
      " 8   Estado    38754 non-null  object\n",
      "dtypes: int64(1), object(8)\n",
      "memory usage: 2.7+ MB\n"
     ]
    }
   ],
   "metadata": {}
  },
  {
   "cell_type": "code",
   "execution_count": 6,
   "source": [
    "iv1.info()"
   ],
   "outputs": [
    {
     "output_type": "stream",
     "name": "stdout",
     "text": [
      "<class 'pandas.core.frame.DataFrame'>\n",
      "RangeIndex: 20000 entries, 0 to 19999\n",
      "Data columns (total 12 columns):\n",
      " #   Column   Non-Null Count  Dtype  \n",
      "---  ------   --------------  -----  \n",
      " 0   id       20000 non-null  object \n",
      " 1   Salario  20000 non-null  object \n",
      " 2   Perfil   20000 non-null  object \n",
      " 3   Ativo01  15012 non-null  float64\n",
      " 4   Ativo02  16857 non-null  float64\n",
      " 5   Ativo03  16760 non-null  float64\n",
      " 6   Ativo04  13799 non-null  float64\n",
      " 7   Ativo05  16829 non-null  float64\n",
      " 8   Ativo06  9895 non-null   float64\n",
      " 9   Ativo07  20000 non-null  float64\n",
      " 10  Nota1    18469 non-null  float64\n",
      " 11  Nota2    18954 non-null  float64\n",
      "dtypes: float64(9), object(3)\n",
      "memory usage: 1.8+ MB\n"
     ]
    }
   ],
   "metadata": {}
  },
  {
   "cell_type": "code",
   "execution_count": 7,
   "source": [
    "iv2.info()"
   ],
   "outputs": [
    {
     "output_type": "stream",
     "name": "stdout",
     "text": [
      "<class 'pandas.core.frame.DataFrame'>\n",
      "RangeIndex: 24052 entries, 0 to 24051\n",
      "Data columns (total 12 columns):\n",
      " #   Column   Non-Null Count  Dtype  \n",
      "---  ------   --------------  -----  \n",
      " 0   id       24052 non-null  object \n",
      " 1   Salario  24052 non-null  object \n",
      " 2   Perfil   24052 non-null  object \n",
      " 3   Ativo01  17994 non-null  float64\n",
      " 4   Ativo02  20245 non-null  float64\n",
      " 5   Ativo03  20249 non-null  float64\n",
      " 6   Ativo04  16685 non-null  float64\n",
      " 7   Ativo05  20211 non-null  float64\n",
      " 8   Ativo06  11932 non-null  float64\n",
      " 9   Ativo07  24052 non-null  float64\n",
      " 10  Nota1    22172 non-null  float64\n",
      " 11  Nota2    22810 non-null  float64\n",
      "dtypes: float64(9), object(3)\n",
      "memory usage: 2.2+ MB\n"
     ]
    }
   ],
   "metadata": {}
  },
  {
   "cell_type": "markdown",
   "source": [
    "## 2 - Juntar os dataframes de investimento1 e investimento2 em um só e ver a quantidade de linhas"
   ],
   "metadata": {}
  },
  {
   "cell_type": "markdown",
   "source": [
    "Criar um novo dataframe  \r\n",
    "Dica: https://pandas.pydata.org/pandas-docs/stable/user_guide/merging.html"
   ],
   "metadata": {}
  },
  {
   "cell_type": "code",
   "execution_count": 8,
   "source": [
    "df = pd.concat([iv1, iv2], axis=0)"
   ],
   "outputs": [],
   "metadata": {}
  },
  {
   "cell_type": "markdown",
   "source": [
    "## 3 - Crie um novo dataframe eliminando as linhas duplicadas do item anterior"
   ],
   "metadata": {}
  },
  {
   "cell_type": "code",
   "execution_count": 9,
   "source": [
    "df = df.drop_duplicates()\r\n",
    "df.shape"
   ],
   "outputs": [
    {
     "output_type": "execute_result",
     "data": {
      "text/plain": [
       "(38754, 12)"
      ]
     },
     "metadata": {},
     "execution_count": 9
    }
   ],
   "metadata": {}
  },
  {
   "cell_type": "markdown",
   "source": [
    "## 4 - Junte o dataframe de investimento com o de cadastro, criando um novo dataframe\n",
    "Dica: use a coluna id como chave para juntar os dois dataframes"
   ],
   "metadata": {}
  },
  {
   "cell_type": "code",
   "execution_count": 10,
   "source": [
    "df = pd.merge(cd, df, on='id', how='left')\r\n",
    "df.shape"
   ],
   "outputs": [
    {
     "output_type": "execute_result",
     "data": {
      "text/plain": [
       "(38754, 20)"
      ]
     },
     "metadata": {},
     "execution_count": 10
    }
   ],
   "metadata": {}
  },
  {
   "cell_type": "code",
   "execution_count": 11,
   "source": [
    "df.head(2)"
   ],
   "outputs": [
    {
     "output_type": "execute_result",
     "data": {
      "text/plain": [
       "          id                             Nome  Sexo        Nasc  Idade  \\\n",
       "0  id0000001            Eunice Hellen do Vale   Fem  1970-11-12     51   \n",
       "1  id0000002  Sebastião Castelo Branco Júnior  Masc  2019-12-10      2   \n",
       "\n",
       "                    Email                                        Lat_long  \\\n",
       "0        djones@yahoo.com  (Decimal('24.7024355'), Decimal('-28.038258'))   \n",
       "1  barnesandrea@yahoo.com  (Decimal('21.8589875'), Decimal('122.830566'))   \n",
       "\n",
       "                    Job Estado Salario    Perfil  Ativo01  Ativo02  Ativo03  \\\n",
       "0      Technical author     TO  $63.67  Moderado  1174.27  4980.98  2638.24   \n",
       "1  Biochemist, clinical     DF  $21.96  Moderado   842.12  5646.09  3336.07   \n",
       "\n",
       "   Ativo04  Ativo05  Ativo06  Ativo07      Nota1      Nota2  \n",
       "0      NaN  4480.91  2329.72   480.72  79.600372   9.802620  \n",
       "1      NaN  5624.22  2669.98   504.17  44.406893  90.512871  "
      ],
      "text/html": [
       "<div>\n",
       "<style scoped>\n",
       "    .dataframe tbody tr th:only-of-type {\n",
       "        vertical-align: middle;\n",
       "    }\n",
       "\n",
       "    .dataframe tbody tr th {\n",
       "        vertical-align: top;\n",
       "    }\n",
       "\n",
       "    .dataframe thead th {\n",
       "        text-align: right;\n",
       "    }\n",
       "</style>\n",
       "<table border=\"1\" class=\"dataframe\">\n",
       "  <thead>\n",
       "    <tr style=\"text-align: right;\">\n",
       "      <th></th>\n",
       "      <th>id</th>\n",
       "      <th>Nome</th>\n",
       "      <th>Sexo</th>\n",
       "      <th>Nasc</th>\n",
       "      <th>Idade</th>\n",
       "      <th>Email</th>\n",
       "      <th>Lat_long</th>\n",
       "      <th>Job</th>\n",
       "      <th>Estado</th>\n",
       "      <th>Salario</th>\n",
       "      <th>Perfil</th>\n",
       "      <th>Ativo01</th>\n",
       "      <th>Ativo02</th>\n",
       "      <th>Ativo03</th>\n",
       "      <th>Ativo04</th>\n",
       "      <th>Ativo05</th>\n",
       "      <th>Ativo06</th>\n",
       "      <th>Ativo07</th>\n",
       "      <th>Nota1</th>\n",
       "      <th>Nota2</th>\n",
       "    </tr>\n",
       "  </thead>\n",
       "  <tbody>\n",
       "    <tr>\n",
       "      <th>0</th>\n",
       "      <td>id0000001</td>\n",
       "      <td>Eunice Hellen do Vale</td>\n",
       "      <td>Fem</td>\n",
       "      <td>1970-11-12</td>\n",
       "      <td>51</td>\n",
       "      <td>djones@yahoo.com</td>\n",
       "      <td>(Decimal('24.7024355'), Decimal('-28.038258'))</td>\n",
       "      <td>Technical author</td>\n",
       "      <td>TO</td>\n",
       "      <td>$63.67</td>\n",
       "      <td>Moderado</td>\n",
       "      <td>1174.27</td>\n",
       "      <td>4980.98</td>\n",
       "      <td>2638.24</td>\n",
       "      <td>NaN</td>\n",
       "      <td>4480.91</td>\n",
       "      <td>2329.72</td>\n",
       "      <td>480.72</td>\n",
       "      <td>79.600372</td>\n",
       "      <td>9.802620</td>\n",
       "    </tr>\n",
       "    <tr>\n",
       "      <th>1</th>\n",
       "      <td>id0000002</td>\n",
       "      <td>Sebastião Castelo Branco Júnior</td>\n",
       "      <td>Masc</td>\n",
       "      <td>2019-12-10</td>\n",
       "      <td>2</td>\n",
       "      <td>barnesandrea@yahoo.com</td>\n",
       "      <td>(Decimal('21.8589875'), Decimal('122.830566'))</td>\n",
       "      <td>Biochemist, clinical</td>\n",
       "      <td>DF</td>\n",
       "      <td>$21.96</td>\n",
       "      <td>Moderado</td>\n",
       "      <td>842.12</td>\n",
       "      <td>5646.09</td>\n",
       "      <td>3336.07</td>\n",
       "      <td>NaN</td>\n",
       "      <td>5624.22</td>\n",
       "      <td>2669.98</td>\n",
       "      <td>504.17</td>\n",
       "      <td>44.406893</td>\n",
       "      <td>90.512871</td>\n",
       "    </tr>\n",
       "  </tbody>\n",
       "</table>\n",
       "</div>"
      ]
     },
     "metadata": {},
     "execution_count": 11
    }
   ],
   "metadata": {}
  },
  {
   "cell_type": "markdown",
   "source": [
    "## 5 - Ordene o dataframe pelo id, de forma crescente e redefina o índice"
   ],
   "metadata": {
    "ExecuteTime": {
     "end_time": "2021-08-16T13:13:10.973171Z",
     "start_time": "2021-08-16T13:13:10.961165Z"
    }
   }
  },
  {
   "cell_type": "code",
   "execution_count": 12,
   "source": [
    "df = df.sort_values(by=['id'], ascending=True)\r\n",
    "df.head(3)"
   ],
   "outputs": [
    {
     "output_type": "execute_result",
     "data": {
      "text/plain": [
       "          id                             Nome  Sexo        Nasc  Idade  \\\n",
       "0  id0000001            Eunice Hellen do Vale   Fem  1970-11-12     51   \n",
       "1  id0000002  Sebastião Castelo Branco Júnior  Masc  2019-12-10      2   \n",
       "2  id0000003        Romildo Fábio de Carvalho  Masc  2015-12-28      6   \n",
       "\n",
       "                     Email                                        Lat_long  \\\n",
       "0         djones@yahoo.com  (Decimal('24.7024355'), Decimal('-28.038258'))   \n",
       "1   barnesandrea@yahoo.com  (Decimal('21.8589875'), Decimal('122.830566'))   \n",
       "2  walkermichael@yahoo.com  (Decimal('-28.2161525'), Decimal('97.140529'))   \n",
       "\n",
       "                                     Job Estado    Salario     Perfil  \\\n",
       "0                       Technical author     TO     $63.67   Moderado   \n",
       "1                   Biochemist, clinical     DF     $21.96   Moderado   \n",
       "2  Development worker, international aid     DF  $62497.64  Agressivo   \n",
       "\n",
       "   Ativo01  Ativo02  Ativo03  Ativo04  Ativo05  Ativo06  Ativo07      Nota1  \\\n",
       "0  1174.27  4980.98  2638.24      NaN  4480.91  2329.72   480.72  79.600372   \n",
       "1   842.12  5646.09  3336.07      NaN  5624.22  2669.98   504.17  44.406893   \n",
       "2   818.81  5516.52  3396.64      NaN  5033.83  2229.45   523.12  44.020024   \n",
       "\n",
       "       Nota2  \n",
       "0   9.802620  \n",
       "1  90.512871  \n",
       "2  65.060941  "
      ],
      "text/html": [
       "<div>\n",
       "<style scoped>\n",
       "    .dataframe tbody tr th:only-of-type {\n",
       "        vertical-align: middle;\n",
       "    }\n",
       "\n",
       "    .dataframe tbody tr th {\n",
       "        vertical-align: top;\n",
       "    }\n",
       "\n",
       "    .dataframe thead th {\n",
       "        text-align: right;\n",
       "    }\n",
       "</style>\n",
       "<table border=\"1\" class=\"dataframe\">\n",
       "  <thead>\n",
       "    <tr style=\"text-align: right;\">\n",
       "      <th></th>\n",
       "      <th>id</th>\n",
       "      <th>Nome</th>\n",
       "      <th>Sexo</th>\n",
       "      <th>Nasc</th>\n",
       "      <th>Idade</th>\n",
       "      <th>Email</th>\n",
       "      <th>Lat_long</th>\n",
       "      <th>Job</th>\n",
       "      <th>Estado</th>\n",
       "      <th>Salario</th>\n",
       "      <th>Perfil</th>\n",
       "      <th>Ativo01</th>\n",
       "      <th>Ativo02</th>\n",
       "      <th>Ativo03</th>\n",
       "      <th>Ativo04</th>\n",
       "      <th>Ativo05</th>\n",
       "      <th>Ativo06</th>\n",
       "      <th>Ativo07</th>\n",
       "      <th>Nota1</th>\n",
       "      <th>Nota2</th>\n",
       "    </tr>\n",
       "  </thead>\n",
       "  <tbody>\n",
       "    <tr>\n",
       "      <th>0</th>\n",
       "      <td>id0000001</td>\n",
       "      <td>Eunice Hellen do Vale</td>\n",
       "      <td>Fem</td>\n",
       "      <td>1970-11-12</td>\n",
       "      <td>51</td>\n",
       "      <td>djones@yahoo.com</td>\n",
       "      <td>(Decimal('24.7024355'), Decimal('-28.038258'))</td>\n",
       "      <td>Technical author</td>\n",
       "      <td>TO</td>\n",
       "      <td>$63.67</td>\n",
       "      <td>Moderado</td>\n",
       "      <td>1174.27</td>\n",
       "      <td>4980.98</td>\n",
       "      <td>2638.24</td>\n",
       "      <td>NaN</td>\n",
       "      <td>4480.91</td>\n",
       "      <td>2329.72</td>\n",
       "      <td>480.72</td>\n",
       "      <td>79.600372</td>\n",
       "      <td>9.802620</td>\n",
       "    </tr>\n",
       "    <tr>\n",
       "      <th>1</th>\n",
       "      <td>id0000002</td>\n",
       "      <td>Sebastião Castelo Branco Júnior</td>\n",
       "      <td>Masc</td>\n",
       "      <td>2019-12-10</td>\n",
       "      <td>2</td>\n",
       "      <td>barnesandrea@yahoo.com</td>\n",
       "      <td>(Decimal('21.8589875'), Decimal('122.830566'))</td>\n",
       "      <td>Biochemist, clinical</td>\n",
       "      <td>DF</td>\n",
       "      <td>$21.96</td>\n",
       "      <td>Moderado</td>\n",
       "      <td>842.12</td>\n",
       "      <td>5646.09</td>\n",
       "      <td>3336.07</td>\n",
       "      <td>NaN</td>\n",
       "      <td>5624.22</td>\n",
       "      <td>2669.98</td>\n",
       "      <td>504.17</td>\n",
       "      <td>44.406893</td>\n",
       "      <td>90.512871</td>\n",
       "    </tr>\n",
       "    <tr>\n",
       "      <th>2</th>\n",
       "      <td>id0000003</td>\n",
       "      <td>Romildo Fábio de Carvalho</td>\n",
       "      <td>Masc</td>\n",
       "      <td>2015-12-28</td>\n",
       "      <td>6</td>\n",
       "      <td>walkermichael@yahoo.com</td>\n",
       "      <td>(Decimal('-28.2161525'), Decimal('97.140529'))</td>\n",
       "      <td>Development worker, international aid</td>\n",
       "      <td>DF</td>\n",
       "      <td>$62497.64</td>\n",
       "      <td>Agressivo</td>\n",
       "      <td>818.81</td>\n",
       "      <td>5516.52</td>\n",
       "      <td>3396.64</td>\n",
       "      <td>NaN</td>\n",
       "      <td>5033.83</td>\n",
       "      <td>2229.45</td>\n",
       "      <td>523.12</td>\n",
       "      <td>44.020024</td>\n",
       "      <td>65.060941</td>\n",
       "    </tr>\n",
       "  </tbody>\n",
       "</table>\n",
       "</div>"
      ]
     },
     "metadata": {},
     "execution_count": 12
    }
   ],
   "metadata": {}
  },
  {
   "cell_type": "markdown",
   "source": [
    "## 6 - Faça uma análise dos dados faltantes e trate-os\n",
    "\n",
    "Mostre todas as colunas com dados faltantes, sua quantidade/porcentagem e como tratar (preencher) cada uma delas explicando sua estratégia"
   ],
   "metadata": {}
  },
  {
   "cell_type": "code",
   "execution_count": 13,
   "source": [
    "#6.1 - Mostrando a quantidade de valores faltantes em cada coluna\r\n",
    "df.isnull().sum()"
   ],
   "outputs": [
    {
     "output_type": "execute_result",
     "data": {
      "text/plain": [
       "id              0\n",
       "Nome            0\n",
       "Sexo            0\n",
       "Nasc            0\n",
       "Idade           0\n",
       "Email           0\n",
       "Lat_long        0\n",
       "Job             0\n",
       "Estado          0\n",
       "Salario         0\n",
       "Perfil          0\n",
       "Ativo01      9724\n",
       "Ativo02      6100\n",
       "Ativo03      6169\n",
       "Ativo04     11887\n",
       "Ativo05      6191\n",
       "Ativo06     19514\n",
       "Ativo07         0\n",
       "Nota1        3000\n",
       "Nota2        2000\n",
       "dtype: int64"
      ]
     },
     "metadata": {},
     "execution_count": 13
    }
   ],
   "metadata": {}
  },
  {
   "cell_type": "code",
   "execution_count": 14,
   "source": [
    "# Mostrando a porcentagem de valores faltantes em cada coluna\r\n",
    "df.isnull().sum()/df.shape[0]*100"
   ],
   "outputs": [
    {
     "output_type": "execute_result",
     "data": {
      "text/plain": [
       "id           0.000000\n",
       "Nome         0.000000\n",
       "Sexo         0.000000\n",
       "Nasc         0.000000\n",
       "Idade        0.000000\n",
       "Email        0.000000\n",
       "Lat_long     0.000000\n",
       "Job          0.000000\n",
       "Estado       0.000000\n",
       "Salario      0.000000\n",
       "Perfil       0.000000\n",
       "Ativo01     25.091603\n",
       "Ativo02     15.740311\n",
       "Ativo03     15.918357\n",
       "Ativo04     30.672963\n",
       "Ativo05     15.975125\n",
       "Ativo06     50.353512\n",
       "Ativo07      0.000000\n",
       "Nota1        7.741136\n",
       "Nota2        5.160758\n",
       "dtype: float64"
      ]
     },
     "metadata": {},
     "execution_count": 14
    }
   ],
   "metadata": {}
  },
  {
   "cell_type": "code",
   "execution_count": 15,
   "source": [
    "df_novo = df.copy()\r\n",
    "# Estrategia adotada: substituindo os dados nulos pelo numero 0 pois entendemos que o investidor nao aplicoda neste ativo\r\n",
    "df_novo['Ativo01'].fillna(0.0, inplace=True) \r\n",
    "df_novo['Ativo02'].fillna(0.0, inplace=True)\r\n",
    "df_novo['Ativo03'].fillna(0.0, inplace=True)\r\n",
    "df_novo['Ativo04'].fillna(0.0, inplace=True)\r\n",
    "df_novo['Ativo05'].fillna(0.0, inplace=True)\r\n",
    "df_novo['Ativo06'].fillna(0.0, inplace=True)\r\n",
    "df_novo['Ativo07'].fillna(0.0, inplace=True)"
   ],
   "outputs": [],
   "metadata": {}
  },
  {
   "cell_type": "code",
   "execution_count": 16,
   "source": [
    "# Estrategia adotada: substituindo os dados nulos pelo numero 51 para que o investidor seja classificado com neutro\r\n",
    "df_novo['Nota1'].fillna(51, inplace=True) \r\n",
    "df_novo['Nota2'].fillna(51, inplace=True)"
   ],
   "outputs": [],
   "metadata": {}
  },
  {
   "cell_type": "code",
   "execution_count": 17,
   "source": [
    "msno.matrix(df_novo)"
   ],
   "outputs": [
    {
     "output_type": "execute_result",
     "data": {
      "text/plain": [
       "<AxesSubplot:>"
      ]
     },
     "metadata": {},
     "execution_count": 17
    }
   ],
   "metadata": {}
  },
  {
   "cell_type": "markdown",
   "source": [
    "## 7 - Manipule os dados a seguir:\r\n",
    "- Criar coluna \"Total\" somando o valor de todos os ativos por investidor\r\n",
    "- Criar coluna \"Media\" com a média das notas 1 e 2\r\n",
    "- Criar coluna \"Dominio\" com apenas o domínio do email (dica: separar por @)\r\n",
    "- Mudar o nome da coluna \"Salário\" para \"Renda\" e tratar a coluna (sem caracter $ e tipo numérica)\r\n",
    "- Mudar os dados da coluna \"Sexo\" para Masculino e Feminino (tente usar a função map)\r\n",
    "- Transformar os dados da coluna Media em inteiro\r\n",
    "- Criar coluna \"NPS\" onde o investidor é classificado como promotor se a média das notas é maior ou igual a 80, como neutro se a média estiver entre 50 e 80, e como detrator se for abaixo de 50\r\n"
   ],
   "metadata": {}
  },
  {
   "cell_type": "code",
   "execution_count": null,
   "source": [
    "#7.1 - Criar coluna \"Total\" somando o valor de todos os ativos por investidor\r\n",
    "df['Total'] = df.iloc[:,11:18].sum(axis=1)\r\n",
    "df[['Total']].head(1)"
   ],
   "outputs": [
    {
     "output_type": "execute_result",
     "data": {
      "text/plain": [
       "      Total\n",
       "0  16084.84"
      ],
      "text/html": [
       "<div>\n",
       "<style scoped>\n",
       "    .dataframe tbody tr th:only-of-type {\n",
       "        vertical-align: middle;\n",
       "    }\n",
       "\n",
       "    .dataframe tbody tr th {\n",
       "        vertical-align: top;\n",
       "    }\n",
       "\n",
       "    .dataframe thead th {\n",
       "        text-align: right;\n",
       "    }\n",
       "</style>\n",
       "<table border=\"1\" class=\"dataframe\">\n",
       "  <thead>\n",
       "    <tr style=\"text-align: right;\">\n",
       "      <th></th>\n",
       "      <th>Total</th>\n",
       "    </tr>\n",
       "  </thead>\n",
       "  <tbody>\n",
       "    <tr>\n",
       "      <th>0</th>\n",
       "      <td>16084.84</td>\n",
       "    </tr>\n",
       "  </tbody>\n",
       "</table>\n",
       "</div>"
      ]
     },
     "metadata": {},
     "execution_count": 60
    }
   ],
   "metadata": {}
  },
  {
   "cell_type": "code",
   "execution_count": null,
   "source": [
    "#7.2 - Criar coluna \"Media\" com a média das notas 1 e 2\r\n",
    "\r\n",
    "'''\r\n",
    "Decidi usar vamor 51 para as médias que ficaram vázias pelos seguintes motivos:\r\n",
    "- Entendi que eles eram indiferentes a empresa, nem satisfeitos, nem insatisfeitos\r\n",
    "\r\n",
    "'''\r\n",
    "\r\n",
    "\r\n",
    "df['Media'] = df.loc[:,['Nota1','Nota2']].mean(axis=1)\r\n",
    "df['Media'] = df['Media'].replace(np.nan, int(51))\r\n",
    "df[['Media']].head(1)"
   ],
   "outputs": [
    {
     "output_type": "execute_result",
     "data": {
      "text/plain": [
       "       Media\n",
       "0  44.701496"
      ],
      "text/html": [
       "<div>\n",
       "<style scoped>\n",
       "    .dataframe tbody tr th:only-of-type {\n",
       "        vertical-align: middle;\n",
       "    }\n",
       "\n",
       "    .dataframe tbody tr th {\n",
       "        vertical-align: top;\n",
       "    }\n",
       "\n",
       "    .dataframe thead th {\n",
       "        text-align: right;\n",
       "    }\n",
       "</style>\n",
       "<table border=\"1\" class=\"dataframe\">\n",
       "  <thead>\n",
       "    <tr style=\"text-align: right;\">\n",
       "      <th></th>\n",
       "      <th>Media</th>\n",
       "    </tr>\n",
       "  </thead>\n",
       "  <tbody>\n",
       "    <tr>\n",
       "      <th>0</th>\n",
       "      <td>44.701496</td>\n",
       "    </tr>\n",
       "  </tbody>\n",
       "</table>\n",
       "</div>"
      ]
     },
     "metadata": {},
     "execution_count": 61
    }
   ],
   "metadata": {}
  },
  {
   "cell_type": "code",
   "execution_count": null,
   "source": [
    "#7.3 - Criar coluna \"Dominio\" com apenas o domínio do email (dica: separar por @)\r\n",
    "df[['EndEmail', 'DominioDoEmail']] = df['Email'].str.split('@', n=-2, expand=True)\r\n",
    "df.drop(['EndEmail'], axis=1, inplace=True)\r\n",
    "df[['DominioDoEmail']].head(1)"
   ],
   "outputs": [
    {
     "output_type": "execute_result",
     "data": {
      "text/plain": [
       "  DominioDoEmail\n",
       "0      yahoo.com"
      ],
      "text/html": [
       "<div>\n",
       "<style scoped>\n",
       "    .dataframe tbody tr th:only-of-type {\n",
       "        vertical-align: middle;\n",
       "    }\n",
       "\n",
       "    .dataframe tbody tr th {\n",
       "        vertical-align: top;\n",
       "    }\n",
       "\n",
       "    .dataframe thead th {\n",
       "        text-align: right;\n",
       "    }\n",
       "</style>\n",
       "<table border=\"1\" class=\"dataframe\">\n",
       "  <thead>\n",
       "    <tr style=\"text-align: right;\">\n",
       "      <th></th>\n",
       "      <th>DominioDoEmail</th>\n",
       "    </tr>\n",
       "  </thead>\n",
       "  <tbody>\n",
       "    <tr>\n",
       "      <th>0</th>\n",
       "      <td>yahoo.com</td>\n",
       "    </tr>\n",
       "  </tbody>\n",
       "</table>\n",
       "</div>"
      ]
     },
     "metadata": {},
     "execution_count": 62
    }
   ],
   "metadata": {}
  },
  {
   "cell_type": "code",
   "execution_count": null,
   "source": [
    "#7.4 - Mudar o nome da coluna \"Salário\" para \"Renda\" e tratar a coluna (sem caracter $ e tipo numérica)\r\n",
    "df.rename(columns={'Salario':'Renda'}, inplace=True)\r\n",
    "df[['Renda']].head(1)"
   ],
   "outputs": [
    {
     "output_type": "execute_result",
     "data": {
      "text/plain": [
       "    Renda\n",
       "0  $63.67"
      ],
      "text/html": [
       "<div>\n",
       "<style scoped>\n",
       "    .dataframe tbody tr th:only-of-type {\n",
       "        vertical-align: middle;\n",
       "    }\n",
       "\n",
       "    .dataframe tbody tr th {\n",
       "        vertical-align: top;\n",
       "    }\n",
       "\n",
       "    .dataframe thead th {\n",
       "        text-align: right;\n",
       "    }\n",
       "</style>\n",
       "<table border=\"1\" class=\"dataframe\">\n",
       "  <thead>\n",
       "    <tr style=\"text-align: right;\">\n",
       "      <th></th>\n",
       "      <th>Renda</th>\n",
       "    </tr>\n",
       "  </thead>\n",
       "  <tbody>\n",
       "    <tr>\n",
       "      <th>0</th>\n",
       "      <td>$63.67</td>\n",
       "    </tr>\n",
       "  </tbody>\n",
       "</table>\n",
       "</div>"
      ]
     },
     "metadata": {},
     "execution_count": 63
    }
   ],
   "metadata": {}
  },
  {
   "cell_type": "markdown",
   "source": [
    "#"
   ],
   "metadata": {}
  },
  {
   "cell_type": "code",
   "execution_count": null,
   "source": [
    "#7.5 - Mudar os dados da coluna \"Sexo\" para Masculino e Feminino (tente usar a função map)\r\n",
    "def sexo(x):\r\n",
    "    if x == 'Fem':\r\n",
    "        return 'Feminino'\r\n",
    "    elif x == 'Masc':\r\n",
    "        return 'Masculino'\r\n",
    "\r\n",
    "df[['Sexo']] = df[['Sexo']].applymap(sexo)\r\n",
    "df[['Sexo']].head(2)"
   ],
   "outputs": [
    {
     "output_type": "execute_result",
     "data": {
      "text/plain": [
       "        Sexo\n",
       "0   Feminino\n",
       "1  Masculino"
      ],
      "text/html": [
       "<div>\n",
       "<style scoped>\n",
       "    .dataframe tbody tr th:only-of-type {\n",
       "        vertical-align: middle;\n",
       "    }\n",
       "\n",
       "    .dataframe tbody tr th {\n",
       "        vertical-align: top;\n",
       "    }\n",
       "\n",
       "    .dataframe thead th {\n",
       "        text-align: right;\n",
       "    }\n",
       "</style>\n",
       "<table border=\"1\" class=\"dataframe\">\n",
       "  <thead>\n",
       "    <tr style=\"text-align: right;\">\n",
       "      <th></th>\n",
       "      <th>Sexo</th>\n",
       "    </tr>\n",
       "  </thead>\n",
       "  <tbody>\n",
       "    <tr>\n",
       "      <th>0</th>\n",
       "      <td>Feminino</td>\n",
       "    </tr>\n",
       "    <tr>\n",
       "      <th>1</th>\n",
       "      <td>Masculino</td>\n",
       "    </tr>\n",
       "  </tbody>\n",
       "</table>\n",
       "</div>"
      ]
     },
     "metadata": {},
     "execution_count": 64
    }
   ],
   "metadata": {}
  },
  {
   "cell_type": "code",
   "execution_count": null,
   "source": [
    "#7.6 - Transformar os dados da coluna Media em inteiro\r\n",
    "df['Media'] = df['Media'].astype('int64')\r\n",
    "df['Media'].dtypes"
   ],
   "outputs": [
    {
     "output_type": "execute_result",
     "data": {
      "text/plain": [
       "dtype('int64')"
      ]
     },
     "metadata": {},
     "execution_count": 65
    }
   ],
   "metadata": {}
  },
  {
   "cell_type": "code",
   "execution_count": null,
   "source": [
    "#Criar coluna \"NPS\" onde o investidor é classificado como promotor se a média das notas é maior ou igual a 80, como neutro se a média estiver entre 50 e 80, e como detrator se for abaixo de 50\r\n",
    "\r\n",
    "'''\r\n",
    "#########  OPÇÃO DE CÓDIGO     ##########\r\n",
    "\r\n",
    "df.loc[df['Media'] >= 50, 'NPS']= 'neutro'\r\n",
    "df.loc[df['Media'] < 50, 'NPS'] = 'detrator'\r\n",
    "df.loc[df['Media'] >= 80, 'NPS'] = 'promotor'\r\n",
    "'''\r\n",
    "\r\n",
    "def perfil(x):\r\n",
    "    if x >=50 and x < 80:\r\n",
    "        return 'Neutro'\r\n",
    "    elif x < 50:\r\n",
    "        return 'Detrator'\r\n",
    "    elif x > 80:\r\n",
    "        return 'Promotor'\r\n",
    "\r\n",
    "df[['NPS']] = df[['Media']].applymap(perfil)\r\n",
    "df[['NPS']].head(3)"
   ],
   "outputs": [
    {
     "output_type": "execute_result",
     "data": {
      "text/plain": [
       "        NPS\n",
       "0  Detrator\n",
       "1    Neutro\n",
       "2    Neutro"
      ],
      "text/html": [
       "<div>\n",
       "<style scoped>\n",
       "    .dataframe tbody tr th:only-of-type {\n",
       "        vertical-align: middle;\n",
       "    }\n",
       "\n",
       "    .dataframe tbody tr th {\n",
       "        vertical-align: top;\n",
       "    }\n",
       "\n",
       "    .dataframe thead th {\n",
       "        text-align: right;\n",
       "    }\n",
       "</style>\n",
       "<table border=\"1\" class=\"dataframe\">\n",
       "  <thead>\n",
       "    <tr style=\"text-align: right;\">\n",
       "      <th></th>\n",
       "      <th>NPS</th>\n",
       "    </tr>\n",
       "  </thead>\n",
       "  <tbody>\n",
       "    <tr>\n",
       "      <th>0</th>\n",
       "      <td>Detrator</td>\n",
       "    </tr>\n",
       "    <tr>\n",
       "      <th>1</th>\n",
       "      <td>Neutro</td>\n",
       "    </tr>\n",
       "    <tr>\n",
       "      <th>2</th>\n",
       "      <td>Neutro</td>\n",
       "    </tr>\n",
       "  </tbody>\n",
       "</table>\n",
       "</div>"
      ]
     },
     "metadata": {},
     "execution_count": 66
    }
   ],
   "metadata": {}
  },
  {
   "cell_type": "markdown",
   "source": [
    "## 8 - Calcule os seguintes dados\r\n",
    "- Calcule o total investido em cada coluna Ativo (tente usar o apply)\r\n",
    "- Qual o menor valor investido em cada ativo?\r\n",
    "- Mostre a média e desvio padrão de cada ativo\r\n",
    "- Qual o nome e a idade do investidor mais velho?\r\n",
    "- Qual a mediana da coluna Média?"
   ],
   "metadata": {}
  },
  {
   "cell_type": "code",
   "execution_count": null,
   "source": [
    "# 8.1 -  Calcule o total investido em cada coluna Ativo\r\n",
    "df.iloc[:,11:18].apply(np.sum, axis=0)"
   ],
   "outputs": [
    {
     "output_type": "execute_result",
     "data": {
      "text/plain": [
       "Ativo01    3.275569e+07\n",
       "Ativo02    1.680798e+08\n",
       "Ativo03    1.023306e+08\n",
       "Ativo04    4.071340e+08\n",
       "Ativo05    1.720668e+08\n",
       "Ativo06    4.462684e+07\n",
       "Ativo07    1.937903e+07\n",
       "dtype: float64"
      ]
     },
     "metadata": {},
     "execution_count": 67
    }
   ],
   "metadata": {}
  },
  {
   "cell_type": "code",
   "execution_count": null,
   "source": [
    "#8.2 - Qual o menor valor investido em cada ativo?\r\n",
    "df.iloc[:,11:18].apply(np.min, axis=0)"
   ],
   "outputs": [
    {
     "output_type": "execute_result",
     "data": {
      "text/plain": [
       "Ativo01      0.00\n",
       "Ativo02      0.00\n",
       "Ativo03      0.00\n",
       "Ativo04      0.00\n",
       "Ativo05      0.00\n",
       "Ativo06      0.00\n",
       "Ativo07    462.93\n",
       "dtype: float64"
      ]
     },
     "metadata": {},
     "execution_count": 68
    }
   ],
   "metadata": {}
  },
  {
   "cell_type": "code",
   "execution_count": null,
   "source": [
    "#8.3.1 - Mostre a média de cada ativo\r\n",
    "df.iloc[:,11:18].apply(np.mean, axis=0)"
   ],
   "outputs": [
    {
     "output_type": "execute_result",
     "data": {
      "text/plain": [
       "Ativo01      845.220878\n",
       "Ativo02     4337.095701\n",
       "Ativo03     2640.515840\n",
       "Ativo04    10505.598580\n",
       "Ativo05     4439.975773\n",
       "Ativo06     1151.541631\n",
       "Ativo07      500.052452\n",
       "dtype: float64"
      ]
     },
     "metadata": {},
     "execution_count": 69
    }
   ],
   "metadata": {}
  },
  {
   "cell_type": "code",
   "execution_count": null,
   "source": [
    "#8.3.2 - Mostre o desvio padrão de cada ativo\r\n",
    "df.iloc[:,11:18].apply(np.std, axis=0)"
   ],
   "outputs": [
    {
     "output_type": "execute_result",
     "data": {
      "text/plain": [
       "Ativo01     524.561757\n",
       "Ativo02    1909.931254\n",
       "Ativo03    1204.849149\n",
       "Ativo04    9084.597495\n",
       "Ativo05    2068.638915\n",
       "Ativo06    1172.044060\n",
       "Ativo07       9.998089\n",
       "dtype: float64"
      ]
     },
     "metadata": {},
     "execution_count": 70
    }
   ],
   "metadata": {}
  },
  {
   "cell_type": "code",
   "execution_count": null,
   "source": [
    "#8.4 - Qual o nome e a idade do investidor mais velho?\r\n",
    "df.loc[df['Idade'] == df['Idade'].max(), ['Idade', 'Nome']]"
   ],
   "outputs": [
    {
     "output_type": "execute_result",
     "data": {
      "text/plain": [
       "       Idade                                        Nome\n",
       "0         51                       Eunice Hellen do Vale\n",
       "30        51              Jeniffer Vanessa de Fraga Rata\n",
       "58        51                                Emanoel Uion\n",
       "87        51                  Ronaldo da Silva do Paraná\n",
       "135       51                           Danilo da Paraíba\n",
       "...      ...                                         ...\n",
       "38478     51             Yeda Rosângela Rodrigues Torres\n",
       "38521     51                         Otto Victor Eirnige\n",
       "38544     51  Marta Arlete Schneider Marques de Iglesias\n",
       "38626     51                        Marina Fátima Guerra\n",
       "38630     51                     Gilmar Jefason de Lemes\n",
       "\n",
       "[774 rows x 2 columns]"
      ],
      "text/html": [
       "<div>\n",
       "<style scoped>\n",
       "    .dataframe tbody tr th:only-of-type {\n",
       "        vertical-align: middle;\n",
       "    }\n",
       "\n",
       "    .dataframe tbody tr th {\n",
       "        vertical-align: top;\n",
       "    }\n",
       "\n",
       "    .dataframe thead th {\n",
       "        text-align: right;\n",
       "    }\n",
       "</style>\n",
       "<table border=\"1\" class=\"dataframe\">\n",
       "  <thead>\n",
       "    <tr style=\"text-align: right;\">\n",
       "      <th></th>\n",
       "      <th>Idade</th>\n",
       "      <th>Nome</th>\n",
       "    </tr>\n",
       "  </thead>\n",
       "  <tbody>\n",
       "    <tr>\n",
       "      <th>0</th>\n",
       "      <td>51</td>\n",
       "      <td>Eunice Hellen do Vale</td>\n",
       "    </tr>\n",
       "    <tr>\n",
       "      <th>30</th>\n",
       "      <td>51</td>\n",
       "      <td>Jeniffer Vanessa de Fraga Rata</td>\n",
       "    </tr>\n",
       "    <tr>\n",
       "      <th>58</th>\n",
       "      <td>51</td>\n",
       "      <td>Emanoel Uion</td>\n",
       "    </tr>\n",
       "    <tr>\n",
       "      <th>87</th>\n",
       "      <td>51</td>\n",
       "      <td>Ronaldo da Silva do Paraná</td>\n",
       "    </tr>\n",
       "    <tr>\n",
       "      <th>135</th>\n",
       "      <td>51</td>\n",
       "      <td>Danilo da Paraíba</td>\n",
       "    </tr>\n",
       "    <tr>\n",
       "      <th>...</th>\n",
       "      <td>...</td>\n",
       "      <td>...</td>\n",
       "    </tr>\n",
       "    <tr>\n",
       "      <th>38478</th>\n",
       "      <td>51</td>\n",
       "      <td>Yeda Rosângela Rodrigues Torres</td>\n",
       "    </tr>\n",
       "    <tr>\n",
       "      <th>38521</th>\n",
       "      <td>51</td>\n",
       "      <td>Otto Victor Eirnige</td>\n",
       "    </tr>\n",
       "    <tr>\n",
       "      <th>38544</th>\n",
       "      <td>51</td>\n",
       "      <td>Marta Arlete Schneider Marques de Iglesias</td>\n",
       "    </tr>\n",
       "    <tr>\n",
       "      <th>38626</th>\n",
       "      <td>51</td>\n",
       "      <td>Marina Fátima Guerra</td>\n",
       "    </tr>\n",
       "    <tr>\n",
       "      <th>38630</th>\n",
       "      <td>51</td>\n",
       "      <td>Gilmar Jefason de Lemes</td>\n",
       "    </tr>\n",
       "  </tbody>\n",
       "</table>\n",
       "<p>774 rows × 2 columns</p>\n",
       "</div>"
      ]
     },
     "metadata": {},
     "execution_count": 71
    }
   ],
   "metadata": {}
  },
  {
   "cell_type": "code",
   "execution_count": null,
   "source": [
    "#8.5 - Qual a mediana da coluna Média?\r\n",
    "df['Media'].median()"
   ],
   "outputs": [
    {
     "output_type": "execute_result",
     "data": {
      "text/plain": [
       "49.0"
      ]
     },
     "metadata": {},
     "execution_count": 72
    }
   ],
   "metadata": {}
  },
  {
   "cell_type": "markdown",
   "source": [
    "## 9 - Responder as perguntas abaixo\r\n",
    "\r\n",
    "- Quantos investidores são agressivos, moderados e conservadores?\r\n",
    "- Mostre os 10 primeiros ids dos investidores de perfil Agressivo e Moderado.\r\n",
    "- Quantos investidores são do sexo feminino?\r\n",
    "- Quantos investidores investiram mais de 16000 no Ativo04?\r\n",
    "- Quantos investidores investiram mais de 16000 no Ativo04 e menos de 5000 no Ativo05?\r\n",
    "- Quais investidores do sexo feminino tem mais de 25 anos e seu investimento total foi menor que 10000? \r\n",
    "- Quantos investidores tem em cada estado (dica: use groupby)\r\n",
    "- Qual é a soma do total investido por cada estado?\r\n",
    "- Qual é a média do total investido por promotores, detratores e neutros? E como se dividem nos estados\r\n",
    "- Crie 3 colunas \"dummies\" do perfil dos investidores\r\n",
    "\r\n",
    "\r\n",
    "- Crie uma tabela com total de investimentos de promotores, detratores e neutros em função do perfil. (dica: use pivot_table)"
   ],
   "metadata": {}
  },
  {
   "cell_type": "markdown",
   "source": [
    "## 9 - Responder as perguntas abaixo\r\n",
    "\r\n",
    "- Quantos investidores são agressivos, moderados e conservadores?\r\n",
    "- Mostre os 10 primeiros ids dos investidores de perfil Agressivo e Moderado.\r\n",
    "- Quantos investidores são do sexo feminino?\r\n",
    "- Quantos investidores investiram mais de 16000 no Ativo04?\r\n",
    "- Quantos investidores investiram mais de 16000 no Ativo04 e menos de 5000 no Ativo05?\r\n",
    "- Quais investidores do sexo feminino tem mais de 25 anos e seu investimento total foi menor que 10000? \r\n",
    "- Quantos investidores tem em cada estado (dica: use groupby)\r\n",
    "- Qual é a soma do total investido por cada estado?\r\n",
    "- Qual é a média do total investido por promotores, detratores e neutros? E como se dividem nos estados\r\n",
    "- Crie 3 colunas \"dummies\" do perfil dos investidores\r\n",
    "\r\n",
    "\r\n",
    "- Crie uma tabela com total de investimentos de promotores, detratores e neutros em função do perfil. (dica: use pivot_table)"
   ],
   "metadata": {}
  },
  {
   "cell_type": "code",
   "execution_count": null,
   "source": [
    "df['Perfil']"
   ],
   "outputs": [
    {
     "output_type": "execute_result",
     "data": {
      "text/plain": [
       "0           Moderado\n",
       "1           Moderado\n",
       "2          Agressivo\n",
       "3          Agressivo\n",
       "4        Conservador\n",
       "            ...     \n",
       "38749       Moderado\n",
       "38750       Moderado\n",
       "38751      Agressivo\n",
       "38752    Conservador\n",
       "38753       Moderado\n",
       "Name: Perfil, Length: 38754, dtype: object"
      ]
     },
     "metadata": {},
     "execution_count": 73
    }
   ],
   "metadata": {}
  },
  {
   "cell_type": "code",
   "execution_count": null,
   "source": [
    "#9.1 - Quantos investidores são agressivos, moderados e conservadores?\r\n",
    "#df.groupby(['Perfil'])['Perfil'].count()\r\n",
    "df[['Perfil']].groupby('Perfil').size()"
   ],
   "outputs": [
    {
     "output_type": "execute_result",
     "data": {
      "text/plain": [
       "Perfil\n",
       "Agressivo      12975\n",
       "Conservador    12879\n",
       "Moderado       12900\n",
       "dtype: int64"
      ]
     },
     "metadata": {},
     "execution_count": 74
    }
   ],
   "metadata": {}
  },
  {
   "cell_type": "code",
   "execution_count": null,
   "source": [
    "#9.2 - - Mostre os 10 primeiros ids dos investidores de perfil Agressivo e Moderado.\r\n",
    "cabeca = df[df['Perfil'] != 'Conservador' ][['id', 'Perfil']].head(10)\r\n",
    "cauda = df[df['Perfil'] != 'Conservador' ][['id', 'Perfil']].tail(10)\r\n",
    "print(cabeca,'\\n'*3, cauda, sep=' ')"
   ],
   "outputs": [
    {
     "output_type": "stream",
     "name": "stdout",
     "text": [
      "           id     Perfil\n",
      "0   id0000001   Moderado\n",
      "1   id0000002   Moderado\n",
      "2   id0000003  Agressivo\n",
      "3   id0000004  Agressivo\n",
      "5   id0000006  Agressivo\n",
      "6   id0000007   Moderado\n",
      "7   id0000008  Agressivo\n",
      "8   id0000009  Agressivo\n",
      "9   id0000010  Agressivo\n",
      "10  id0000011   Moderado \n",
      "\n",
      "\n",
      "               id     Perfil\n",
      "38741  id0038742  Agressivo\n",
      "38742  id0038743   Moderado\n",
      "38743  id0038744   Moderado\n",
      "38746  id0038747   Moderado\n",
      "38747  id0038748   Moderado\n",
      "38748  id0038749  Agressivo\n",
      "38749  id0038750   Moderado\n",
      "38750  id0038751   Moderado\n",
      "38751  id0038752  Agressivo\n",
      "38753  id0038754   Moderado\n"
     ]
    }
   ],
   "metadata": {}
  },
  {
   "cell_type": "code",
   "execution_count": null,
   "source": [
    "#9.3 - Quantos investidores são do sexo feminino?\r\n",
    "df[df['Sexo'] == 'Feminino'].groupby('Sexo')['Sexo'].count()"
   ],
   "outputs": [
    {
     "output_type": "execute_result",
     "data": {
      "text/plain": [
       "Sexo\n",
       "Feminino    19385\n",
       "Name: Sexo, dtype: int64"
      ]
     },
     "metadata": {},
     "execution_count": 76
    }
   ],
   "metadata": {}
  },
  {
   "cell_type": "code",
   "execution_count": null,
   "source": [
    "#9.3 - Quantos investidores investiram mais de 16000 no Ativo04?\r\n",
    "len(df[df['Ativo04'] > 16000])"
   ],
   "outputs": [
    {
     "output_type": "execute_result",
     "data": {
      "text/plain": [
       "10689"
      ]
     },
     "metadata": {},
     "execution_count": 77
    }
   ],
   "metadata": {}
  },
  {
   "cell_type": "code",
   "execution_count": null,
   "source": [
    "#9.4 - Quantos investidores investiram mais de 16000 no Ativo04 e menos de 5000 no Ativo05?\r\n",
    "len(df[(df['Ativo04'] > 16000) & (df['Ativo05'] < 5000)])"
   ],
   "outputs": [
    {
     "output_type": "execute_result",
     "data": {
      "text/plain": [
       "5374"
      ]
     },
     "metadata": {},
     "execution_count": 78
    }
   ],
   "metadata": {}
  },
  {
   "cell_type": "code",
   "execution_count": null,
   "source": [
    "#9.5 - Quais investidores do sexo feminino tem mais de 25 anos e seu investimento total foi menor que 10000?\r\n",
    "df[(df['Sexo'] == 'Feminino') & (df['Idade'] > 25) & (df['Total'] > 10000)]"
   ],
   "outputs": [
    {
     "output_type": "execute_result",
     "data": {
      "text/plain": [
       "              id                                   Nome      Sexo        Nasc  \\\n",
       "0      id0000001                  Eunice Hellen do Vale  Feminino  1970-11-12   \n",
       "3      id0000004              Lana Albina de Lemos Mumy  Feminino  1993-05-03   \n",
       "4      id0000005       Rose Elisângela Vyrnium de Moura  Feminino  1984-06-10   \n",
       "14     id0000015  Shirley Magali dos Santos Ilil Brasil  Feminino  1985-09-25   \n",
       "18     id0000019           Hellen de Teixeira Ezelimman  Feminino  1991-05-31   \n",
       "...          ...                                    ...       ...         ...   \n",
       "38738  id0038739                          Celina Faeima  Feminino  1981-12-04   \n",
       "38739  id0038740                   Diana Andréia Gizsiu  Feminino  1984-11-11   \n",
       "38740  id0038741                Fabíola do Paraná Vaoal  Feminino  1972-01-05   \n",
       "38742  id0038743      Michele Cecília Brasil de Freitas  Feminino  1986-10-03   \n",
       "38745  id0038746                         Paula de Lemes  Feminino  1992-08-06   \n",
       "\n",
       "       Idade                       Email  \\\n",
       "0         51            djones@yahoo.com   \n",
       "3         28      cobbangela@hotmail.com   \n",
       "4         37     crawfordcraig@yahoo.com   \n",
       "14        36           ulevine@yahoo.com   \n",
       "18        30      bakermichael@gmail.com   \n",
       "...      ...                         ...   \n",
       "38738     40          garyluna@gmail.com   \n",
       "38739     37       johnrussell@gmail.com   \n",
       "38740     49          ycarlson@yahoo.com   \n",
       "38742     35           kim25@hotmail.com   \n",
       "38745     29  reynoldsjennifer@gmail.com   \n",
       "\n",
       "                                               Lat_long  \\\n",
       "0        (Decimal('24.7024355'), Decimal('-28.038258'))   \n",
       "3        (Decimal('-40.8557635'), Decimal('-2.936099'))   \n",
       "4       (Decimal('-20.2620885'), Decimal('104.349223'))   \n",
       "14        (Decimal('53.713752'), Decimal('-26.655324'))   \n",
       "18        (Decimal('-68.426187'), Decimal('-3.374860'))   \n",
       "...                                                 ...   \n",
       "38738      (Decimal('44.091570'), Decimal('73.962037'))   \n",
       "38739   (Decimal('-39.972015'), Decimal('-118.995689'))   \n",
       "38740     (Decimal('70.075201'), Decimal('100.066811'))   \n",
       "38742     (Decimal('0.6676755'), Decimal('-96.744816'))   \n",
       "38745  (Decimal('-62.8648515'), Decimal('-177.577584'))   \n",
       "\n",
       "                                       Job Estado      Renda       Perfil  \\\n",
       "0                         Technical author     TO     $63.67     Moderado   \n",
       "3                Estate manager/land agent     DF  $99878.74    Agressivo   \n",
       "4      Chartered public finance accountant     MS    $188.01  Conservador   \n",
       "14                  Engineer, aeronautical     PA  $52421.54     Moderado   \n",
       "18            Designer, industrial/product     AC   $7049.67     Moderado   \n",
       "...                                    ...    ...        ...          ...   \n",
       "38738         Conservation officer, nature     AP     $63.99     Moderado   \n",
       "38739                    Medical physicist     ES     $43.10  Conservador   \n",
       "38740  Chartered public finance accountant     MA    $330.19    Agressivo   \n",
       "38742                           Translator     MS  $15668.49     Moderado   \n",
       "38745         Trade union research officer     RJ    $487.06  Conservador   \n",
       "\n",
       "       Ativo01  Ativo02  Ativo03   Ativo04  Ativo05  Ativo06  Ativo07  \\\n",
       "0      1174.27  4980.98  2638.24      0.00  4480.91  2329.72   480.72   \n",
       "3         0.00  5258.69  3723.10      0.00  5933.91     0.00   486.05   \n",
       "4      1505.16  6415.30  3462.67  30841.35  6044.86  2198.89   512.98   \n",
       "14     1187.21  5349.16  3253.68   8638.89  5151.24     0.00   492.34   \n",
       "18      986.04  4609.29  3679.42  18080.02  7146.23     0.00   507.71   \n",
       "...        ...      ...      ...       ...      ...      ...      ...   \n",
       "38738  1281.25  5684.06  2849.14  17078.58  4830.44     0.00   500.59   \n",
       "38739  1139.09  4922.99     0.00   6060.50  4517.58  2102.05   509.65   \n",
       "38740     0.00  4752.65     0.00      0.00  5343.93  2244.89   496.97   \n",
       "38742   866.16  5419.12  3195.57  12875.06  4123.92  2047.02   489.82   \n",
       "38745  1094.12  5618.90  3376.45  19323.07  6605.23  2164.76   510.60   \n",
       "\n",
       "           Nota1      Nota2     Total  Media DominioDoEmail       NPS  \n",
       "0      79.600372   9.802620  16084.84     44      yahoo.com  Detrator  \n",
       "3      25.597924  86.548918  15401.75     56    hotmail.com    Neutro  \n",
       "4      14.463307  33.566292  50981.21     24      yahoo.com  Detrator  \n",
       "14     41.598180  15.227546  24072.52     28      yahoo.com  Detrator  \n",
       "18     51.000000  62.656956  35008.71     56      gmail.com    Neutro  \n",
       "...          ...        ...       ...    ...            ...       ...  \n",
       "38738   0.396150  52.045951  32224.06     26      gmail.com  Detrator  \n",
       "38739  51.000000  57.935261  19251.86     54      gmail.com    Neutro  \n",
       "38740   9.345647  35.839981  12838.44     22      yahoo.com  Detrator  \n",
       "38742  73.318733  92.181903  29016.67     82    hotmail.com  Promotor  \n",
       "38745  63.315414  50.381290  38693.13     56      gmail.com    Neutro  \n",
       "\n",
       "[9232 rows x 24 columns]"
      ],
      "text/html": [
       "<div>\n",
       "<style scoped>\n",
       "    .dataframe tbody tr th:only-of-type {\n",
       "        vertical-align: middle;\n",
       "    }\n",
       "\n",
       "    .dataframe tbody tr th {\n",
       "        vertical-align: top;\n",
       "    }\n",
       "\n",
       "    .dataframe thead th {\n",
       "        text-align: right;\n",
       "    }\n",
       "</style>\n",
       "<table border=\"1\" class=\"dataframe\">\n",
       "  <thead>\n",
       "    <tr style=\"text-align: right;\">\n",
       "      <th></th>\n",
       "      <th>id</th>\n",
       "      <th>Nome</th>\n",
       "      <th>Sexo</th>\n",
       "      <th>Nasc</th>\n",
       "      <th>Idade</th>\n",
       "      <th>Email</th>\n",
       "      <th>Lat_long</th>\n",
       "      <th>Job</th>\n",
       "      <th>Estado</th>\n",
       "      <th>Renda</th>\n",
       "      <th>Perfil</th>\n",
       "      <th>Ativo01</th>\n",
       "      <th>Ativo02</th>\n",
       "      <th>Ativo03</th>\n",
       "      <th>Ativo04</th>\n",
       "      <th>Ativo05</th>\n",
       "      <th>Ativo06</th>\n",
       "      <th>Ativo07</th>\n",
       "      <th>Nota1</th>\n",
       "      <th>Nota2</th>\n",
       "      <th>Total</th>\n",
       "      <th>Media</th>\n",
       "      <th>DominioDoEmail</th>\n",
       "      <th>NPS</th>\n",
       "    </tr>\n",
       "  </thead>\n",
       "  <tbody>\n",
       "    <tr>\n",
       "      <th>0</th>\n",
       "      <td>id0000001</td>\n",
       "      <td>Eunice Hellen do Vale</td>\n",
       "      <td>Feminino</td>\n",
       "      <td>1970-11-12</td>\n",
       "      <td>51</td>\n",
       "      <td>djones@yahoo.com</td>\n",
       "      <td>(Decimal('24.7024355'), Decimal('-28.038258'))</td>\n",
       "      <td>Technical author</td>\n",
       "      <td>TO</td>\n",
       "      <td>$63.67</td>\n",
       "      <td>Moderado</td>\n",
       "      <td>1174.27</td>\n",
       "      <td>4980.98</td>\n",
       "      <td>2638.24</td>\n",
       "      <td>0.00</td>\n",
       "      <td>4480.91</td>\n",
       "      <td>2329.72</td>\n",
       "      <td>480.72</td>\n",
       "      <td>79.600372</td>\n",
       "      <td>9.802620</td>\n",
       "      <td>16084.84</td>\n",
       "      <td>44</td>\n",
       "      <td>yahoo.com</td>\n",
       "      <td>Detrator</td>\n",
       "    </tr>\n",
       "    <tr>\n",
       "      <th>3</th>\n",
       "      <td>id0000004</td>\n",
       "      <td>Lana Albina de Lemos Mumy</td>\n",
       "      <td>Feminino</td>\n",
       "      <td>1993-05-03</td>\n",
       "      <td>28</td>\n",
       "      <td>cobbangela@hotmail.com</td>\n",
       "      <td>(Decimal('-40.8557635'), Decimal('-2.936099'))</td>\n",
       "      <td>Estate manager/land agent</td>\n",
       "      <td>DF</td>\n",
       "      <td>$99878.74</td>\n",
       "      <td>Agressivo</td>\n",
       "      <td>0.00</td>\n",
       "      <td>5258.69</td>\n",
       "      <td>3723.10</td>\n",
       "      <td>0.00</td>\n",
       "      <td>5933.91</td>\n",
       "      <td>0.00</td>\n",
       "      <td>486.05</td>\n",
       "      <td>25.597924</td>\n",
       "      <td>86.548918</td>\n",
       "      <td>15401.75</td>\n",
       "      <td>56</td>\n",
       "      <td>hotmail.com</td>\n",
       "      <td>Neutro</td>\n",
       "    </tr>\n",
       "    <tr>\n",
       "      <th>4</th>\n",
       "      <td>id0000005</td>\n",
       "      <td>Rose Elisângela Vyrnium de Moura</td>\n",
       "      <td>Feminino</td>\n",
       "      <td>1984-06-10</td>\n",
       "      <td>37</td>\n",
       "      <td>crawfordcraig@yahoo.com</td>\n",
       "      <td>(Decimal('-20.2620885'), Decimal('104.349223'))</td>\n",
       "      <td>Chartered public finance accountant</td>\n",
       "      <td>MS</td>\n",
       "      <td>$188.01</td>\n",
       "      <td>Conservador</td>\n",
       "      <td>1505.16</td>\n",
       "      <td>6415.30</td>\n",
       "      <td>3462.67</td>\n",
       "      <td>30841.35</td>\n",
       "      <td>6044.86</td>\n",
       "      <td>2198.89</td>\n",
       "      <td>512.98</td>\n",
       "      <td>14.463307</td>\n",
       "      <td>33.566292</td>\n",
       "      <td>50981.21</td>\n",
       "      <td>24</td>\n",
       "      <td>yahoo.com</td>\n",
       "      <td>Detrator</td>\n",
       "    </tr>\n",
       "    <tr>\n",
       "      <th>14</th>\n",
       "      <td>id0000015</td>\n",
       "      <td>Shirley Magali dos Santos Ilil Brasil</td>\n",
       "      <td>Feminino</td>\n",
       "      <td>1985-09-25</td>\n",
       "      <td>36</td>\n",
       "      <td>ulevine@yahoo.com</td>\n",
       "      <td>(Decimal('53.713752'), Decimal('-26.655324'))</td>\n",
       "      <td>Engineer, aeronautical</td>\n",
       "      <td>PA</td>\n",
       "      <td>$52421.54</td>\n",
       "      <td>Moderado</td>\n",
       "      <td>1187.21</td>\n",
       "      <td>5349.16</td>\n",
       "      <td>3253.68</td>\n",
       "      <td>8638.89</td>\n",
       "      <td>5151.24</td>\n",
       "      <td>0.00</td>\n",
       "      <td>492.34</td>\n",
       "      <td>41.598180</td>\n",
       "      <td>15.227546</td>\n",
       "      <td>24072.52</td>\n",
       "      <td>28</td>\n",
       "      <td>yahoo.com</td>\n",
       "      <td>Detrator</td>\n",
       "    </tr>\n",
       "    <tr>\n",
       "      <th>18</th>\n",
       "      <td>id0000019</td>\n",
       "      <td>Hellen de Teixeira Ezelimman</td>\n",
       "      <td>Feminino</td>\n",
       "      <td>1991-05-31</td>\n",
       "      <td>30</td>\n",
       "      <td>bakermichael@gmail.com</td>\n",
       "      <td>(Decimal('-68.426187'), Decimal('-3.374860'))</td>\n",
       "      <td>Designer, industrial/product</td>\n",
       "      <td>AC</td>\n",
       "      <td>$7049.67</td>\n",
       "      <td>Moderado</td>\n",
       "      <td>986.04</td>\n",
       "      <td>4609.29</td>\n",
       "      <td>3679.42</td>\n",
       "      <td>18080.02</td>\n",
       "      <td>7146.23</td>\n",
       "      <td>0.00</td>\n",
       "      <td>507.71</td>\n",
       "      <td>51.000000</td>\n",
       "      <td>62.656956</td>\n",
       "      <td>35008.71</td>\n",
       "      <td>56</td>\n",
       "      <td>gmail.com</td>\n",
       "      <td>Neutro</td>\n",
       "    </tr>\n",
       "    <tr>\n",
       "      <th>...</th>\n",
       "      <td>...</td>\n",
       "      <td>...</td>\n",
       "      <td>...</td>\n",
       "      <td>...</td>\n",
       "      <td>...</td>\n",
       "      <td>...</td>\n",
       "      <td>...</td>\n",
       "      <td>...</td>\n",
       "      <td>...</td>\n",
       "      <td>...</td>\n",
       "      <td>...</td>\n",
       "      <td>...</td>\n",
       "      <td>...</td>\n",
       "      <td>...</td>\n",
       "      <td>...</td>\n",
       "      <td>...</td>\n",
       "      <td>...</td>\n",
       "      <td>...</td>\n",
       "      <td>...</td>\n",
       "      <td>...</td>\n",
       "      <td>...</td>\n",
       "      <td>...</td>\n",
       "      <td>...</td>\n",
       "      <td>...</td>\n",
       "    </tr>\n",
       "    <tr>\n",
       "      <th>38738</th>\n",
       "      <td>id0038739</td>\n",
       "      <td>Celina Faeima</td>\n",
       "      <td>Feminino</td>\n",
       "      <td>1981-12-04</td>\n",
       "      <td>40</td>\n",
       "      <td>garyluna@gmail.com</td>\n",
       "      <td>(Decimal('44.091570'), Decimal('73.962037'))</td>\n",
       "      <td>Conservation officer, nature</td>\n",
       "      <td>AP</td>\n",
       "      <td>$63.99</td>\n",
       "      <td>Moderado</td>\n",
       "      <td>1281.25</td>\n",
       "      <td>5684.06</td>\n",
       "      <td>2849.14</td>\n",
       "      <td>17078.58</td>\n",
       "      <td>4830.44</td>\n",
       "      <td>0.00</td>\n",
       "      <td>500.59</td>\n",
       "      <td>0.396150</td>\n",
       "      <td>52.045951</td>\n",
       "      <td>32224.06</td>\n",
       "      <td>26</td>\n",
       "      <td>gmail.com</td>\n",
       "      <td>Detrator</td>\n",
       "    </tr>\n",
       "    <tr>\n",
       "      <th>38739</th>\n",
       "      <td>id0038740</td>\n",
       "      <td>Diana Andréia Gizsiu</td>\n",
       "      <td>Feminino</td>\n",
       "      <td>1984-11-11</td>\n",
       "      <td>37</td>\n",
       "      <td>johnrussell@gmail.com</td>\n",
       "      <td>(Decimal('-39.972015'), Decimal('-118.995689'))</td>\n",
       "      <td>Medical physicist</td>\n",
       "      <td>ES</td>\n",
       "      <td>$43.10</td>\n",
       "      <td>Conservador</td>\n",
       "      <td>1139.09</td>\n",
       "      <td>4922.99</td>\n",
       "      <td>0.00</td>\n",
       "      <td>6060.50</td>\n",
       "      <td>4517.58</td>\n",
       "      <td>2102.05</td>\n",
       "      <td>509.65</td>\n",
       "      <td>51.000000</td>\n",
       "      <td>57.935261</td>\n",
       "      <td>19251.86</td>\n",
       "      <td>54</td>\n",
       "      <td>gmail.com</td>\n",
       "      <td>Neutro</td>\n",
       "    </tr>\n",
       "    <tr>\n",
       "      <th>38740</th>\n",
       "      <td>id0038741</td>\n",
       "      <td>Fabíola do Paraná Vaoal</td>\n",
       "      <td>Feminino</td>\n",
       "      <td>1972-01-05</td>\n",
       "      <td>49</td>\n",
       "      <td>ycarlson@yahoo.com</td>\n",
       "      <td>(Decimal('70.075201'), Decimal('100.066811'))</td>\n",
       "      <td>Chartered public finance accountant</td>\n",
       "      <td>MA</td>\n",
       "      <td>$330.19</td>\n",
       "      <td>Agressivo</td>\n",
       "      <td>0.00</td>\n",
       "      <td>4752.65</td>\n",
       "      <td>0.00</td>\n",
       "      <td>0.00</td>\n",
       "      <td>5343.93</td>\n",
       "      <td>2244.89</td>\n",
       "      <td>496.97</td>\n",
       "      <td>9.345647</td>\n",
       "      <td>35.839981</td>\n",
       "      <td>12838.44</td>\n",
       "      <td>22</td>\n",
       "      <td>yahoo.com</td>\n",
       "      <td>Detrator</td>\n",
       "    </tr>\n",
       "    <tr>\n",
       "      <th>38742</th>\n",
       "      <td>id0038743</td>\n",
       "      <td>Michele Cecília Brasil de Freitas</td>\n",
       "      <td>Feminino</td>\n",
       "      <td>1986-10-03</td>\n",
       "      <td>35</td>\n",
       "      <td>kim25@hotmail.com</td>\n",
       "      <td>(Decimal('0.6676755'), Decimal('-96.744816'))</td>\n",
       "      <td>Translator</td>\n",
       "      <td>MS</td>\n",
       "      <td>$15668.49</td>\n",
       "      <td>Moderado</td>\n",
       "      <td>866.16</td>\n",
       "      <td>5419.12</td>\n",
       "      <td>3195.57</td>\n",
       "      <td>12875.06</td>\n",
       "      <td>4123.92</td>\n",
       "      <td>2047.02</td>\n",
       "      <td>489.82</td>\n",
       "      <td>73.318733</td>\n",
       "      <td>92.181903</td>\n",
       "      <td>29016.67</td>\n",
       "      <td>82</td>\n",
       "      <td>hotmail.com</td>\n",
       "      <td>Promotor</td>\n",
       "    </tr>\n",
       "    <tr>\n",
       "      <th>38745</th>\n",
       "      <td>id0038746</td>\n",
       "      <td>Paula de Lemes</td>\n",
       "      <td>Feminino</td>\n",
       "      <td>1992-08-06</td>\n",
       "      <td>29</td>\n",
       "      <td>reynoldsjennifer@gmail.com</td>\n",
       "      <td>(Decimal('-62.8648515'), Decimal('-177.577584'))</td>\n",
       "      <td>Trade union research officer</td>\n",
       "      <td>RJ</td>\n",
       "      <td>$487.06</td>\n",
       "      <td>Conservador</td>\n",
       "      <td>1094.12</td>\n",
       "      <td>5618.90</td>\n",
       "      <td>3376.45</td>\n",
       "      <td>19323.07</td>\n",
       "      <td>6605.23</td>\n",
       "      <td>2164.76</td>\n",
       "      <td>510.60</td>\n",
       "      <td>63.315414</td>\n",
       "      <td>50.381290</td>\n",
       "      <td>38693.13</td>\n",
       "      <td>56</td>\n",
       "      <td>gmail.com</td>\n",
       "      <td>Neutro</td>\n",
       "    </tr>\n",
       "  </tbody>\n",
       "</table>\n",
       "<p>9232 rows × 24 columns</p>\n",
       "</div>"
      ]
     },
     "metadata": {},
     "execution_count": 79
    }
   ],
   "metadata": {}
  },
  {
   "cell_type": "code",
   "execution_count": null,
   "source": [
    "#9.6 - Quantos investidores tem em cada estado.\r\n",
    "df.groupby(['Estado']).size()"
   ],
   "outputs": [
    {
     "output_type": "execute_result",
     "data": {
      "text/plain": [
       "Estado\n",
       "AC    1435\n",
       "AL    1376\n",
       "AM    1495\n",
       "AP    1438\n",
       "BA    1484\n",
       "CE    1465\n",
       "DF    1470\n",
       "ES    1472\n",
       "GO    1394\n",
       "MA    1454\n",
       "MG    1407\n",
       "MS    1436\n",
       "MT    1390\n",
       "PA    1421\n",
       "PB    1405\n",
       "PE    1477\n",
       "PI    1503\n",
       "PR    1371\n",
       "RJ    1466\n",
       "RN    1472\n",
       "RO    1440\n",
       "RR    1495\n",
       "RS    1393\n",
       "SC    1430\n",
       "SE    1319\n",
       "SP    1464\n",
       "TO    1382\n",
       "dtype: int64"
      ]
     },
     "metadata": {},
     "execution_count": 80
    }
   ],
   "metadata": {}
  },
  {
   "cell_type": "code",
   "execution_count": null,
   "source": [
    "#9.7 - Soma do total investido por cada estado\r\n",
    "df.groupby(['Estado'])['Total'].sum()\r\n",
    "#df[['Estado', 'Total']].groupby('Estado').sum()"
   ],
   "outputs": [
    {
     "output_type": "execute_result",
     "data": {
      "text/plain": [
       "Estado\n",
       "AC    35362505.80\n",
       "AL    33763479.45\n",
       "AM    37036424.81\n",
       "AP    34996432.12\n",
       "BA    36188507.51\n",
       "CE    35959807.36\n",
       "DF    36277409.37\n",
       "ES    36112618.12\n",
       "GO    34234860.26\n",
       "MA    34952752.65\n",
       "MG    33820223.17\n",
       "MS    35279491.41\n",
       "MT    34206427.27\n",
       "PA    34877463.97\n",
       "PB    34248820.05\n",
       "PE    35353945.12\n",
       "PI    37038930.90\n",
       "PR    33002424.19\n",
       "RJ    35910946.83\n",
       "RN    35755623.32\n",
       "RO    34341430.55\n",
       "RR    36543504.21\n",
       "RS    34300026.29\n",
       "SC    35223280.67\n",
       "SE    32496697.65\n",
       "SP    35624582.45\n",
       "TO    33464097.56\n",
       "Name: Total, dtype: float64"
      ]
     },
     "metadata": {},
     "execution_count": 81
    }
   ],
   "metadata": {}
  },
  {
   "cell_type": "code",
   "execution_count": null,
   "source": [
    "#9.8 - Qual é a média do total investido por promotores, detratores e neutros? E como se dividem nos estados\r\n",
    "df.groupby(['Estado','NPS'])[['Total']].mean()"
   ],
   "outputs": [
    {
     "output_type": "execute_result",
     "data": {
      "text/plain": [
       "                        Total\n",
       "Estado NPS                   \n",
       "AC     Detrator  24768.471114\n",
       "       Neutro    24276.897216\n",
       "       Promotor  26516.213855\n",
       "AL     Detrator  24673.795029\n",
       "       Neutro    24372.012315\n",
       "...                       ...\n",
       "SP     Neutro    24349.300522\n",
       "       Promotor  24184.161319\n",
       "TO     Detrator  23948.512533\n",
       "       Neutro    24704.643667\n",
       "       Promotor  23222.160189\n",
       "\n",
       "[81 rows x 1 columns]"
      ],
      "text/html": [
       "<div>\n",
       "<style scoped>\n",
       "    .dataframe tbody tr th:only-of-type {\n",
       "        vertical-align: middle;\n",
       "    }\n",
       "\n",
       "    .dataframe tbody tr th {\n",
       "        vertical-align: top;\n",
       "    }\n",
       "\n",
       "    .dataframe thead th {\n",
       "        text-align: right;\n",
       "    }\n",
       "</style>\n",
       "<table border=\"1\" class=\"dataframe\">\n",
       "  <thead>\n",
       "    <tr style=\"text-align: right;\">\n",
       "      <th></th>\n",
       "      <th></th>\n",
       "      <th>Total</th>\n",
       "    </tr>\n",
       "    <tr>\n",
       "      <th>Estado</th>\n",
       "      <th>NPS</th>\n",
       "      <th></th>\n",
       "    </tr>\n",
       "  </thead>\n",
       "  <tbody>\n",
       "    <tr>\n",
       "      <th rowspan=\"3\" valign=\"top\">AC</th>\n",
       "      <th>Detrator</th>\n",
       "      <td>24768.471114</td>\n",
       "    </tr>\n",
       "    <tr>\n",
       "      <th>Neutro</th>\n",
       "      <td>24276.897216</td>\n",
       "    </tr>\n",
       "    <tr>\n",
       "      <th>Promotor</th>\n",
       "      <td>26516.213855</td>\n",
       "    </tr>\n",
       "    <tr>\n",
       "      <th rowspan=\"2\" valign=\"top\">AL</th>\n",
       "      <th>Detrator</th>\n",
       "      <td>24673.795029</td>\n",
       "    </tr>\n",
       "    <tr>\n",
       "      <th>Neutro</th>\n",
       "      <td>24372.012315</td>\n",
       "    </tr>\n",
       "    <tr>\n",
       "      <th>...</th>\n",
       "      <th>...</th>\n",
       "      <td>...</td>\n",
       "    </tr>\n",
       "    <tr>\n",
       "      <th rowspan=\"2\" valign=\"top\">SP</th>\n",
       "      <th>Neutro</th>\n",
       "      <td>24349.300522</td>\n",
       "    </tr>\n",
       "    <tr>\n",
       "      <th>Promotor</th>\n",
       "      <td>24184.161319</td>\n",
       "    </tr>\n",
       "    <tr>\n",
       "      <th rowspan=\"3\" valign=\"top\">TO</th>\n",
       "      <th>Detrator</th>\n",
       "      <td>23948.512533</td>\n",
       "    </tr>\n",
       "    <tr>\n",
       "      <th>Neutro</th>\n",
       "      <td>24704.643667</td>\n",
       "    </tr>\n",
       "    <tr>\n",
       "      <th>Promotor</th>\n",
       "      <td>23222.160189</td>\n",
       "    </tr>\n",
       "  </tbody>\n",
       "</table>\n",
       "<p>81 rows × 1 columns</p>\n",
       "</div>"
      ]
     },
     "metadata": {},
     "execution_count": 82
    }
   ],
   "metadata": {}
  },
  {
   "cell_type": "code",
   "execution_count": null,
   "source": [
    "#9.8 - #Crie 3 colunas \"dummies\" do perfil dos investidores\r\n",
    "df[['detrator','neutro','promotor']] = pd.get_dummies(df['NPS'])\r\n",
    "df.head(2)"
   ],
   "outputs": [
    {
     "output_type": "execute_result",
     "data": {
      "text/plain": [
       "          id                             Nome       Sexo        Nasc  Idade  \\\n",
       "0  id0000001            Eunice Hellen do Vale   Feminino  1970-11-12     51   \n",
       "1  id0000002  Sebastião Castelo Branco Júnior  Masculino  2019-12-10      2   \n",
       "\n",
       "                    Email                                        Lat_long  \\\n",
       "0        djones@yahoo.com  (Decimal('24.7024355'), Decimal('-28.038258'))   \n",
       "1  barnesandrea@yahoo.com  (Decimal('21.8589875'), Decimal('122.830566'))   \n",
       "\n",
       "                    Job Estado   Renda    Perfil  Ativo01  Ativo02  Ativo03  \\\n",
       "0      Technical author     TO  $63.67  Moderado  1174.27  4980.98  2638.24   \n",
       "1  Biochemist, clinical     DF  $21.96  Moderado   842.12  5646.09  3336.07   \n",
       "\n",
       "   Ativo04  Ativo05  Ativo06  Ativo07      Nota1      Nota2     Total  Media  \\\n",
       "0      0.0  4480.91  2329.72   480.72  79.600372   9.802620  16084.84     44   \n",
       "1      0.0  5624.22  2669.98   504.17  44.406893  90.512871  18622.65     67   \n",
       "\n",
       "  DominioDoEmail       NPS  detrator  neutro  promotor  \n",
       "0      yahoo.com  Detrator         1       0         0  \n",
       "1      yahoo.com    Neutro         0       1         0  "
      ],
      "text/html": [
       "<div>\n",
       "<style scoped>\n",
       "    .dataframe tbody tr th:only-of-type {\n",
       "        vertical-align: middle;\n",
       "    }\n",
       "\n",
       "    .dataframe tbody tr th {\n",
       "        vertical-align: top;\n",
       "    }\n",
       "\n",
       "    .dataframe thead th {\n",
       "        text-align: right;\n",
       "    }\n",
       "</style>\n",
       "<table border=\"1\" class=\"dataframe\">\n",
       "  <thead>\n",
       "    <tr style=\"text-align: right;\">\n",
       "      <th></th>\n",
       "      <th>id</th>\n",
       "      <th>Nome</th>\n",
       "      <th>Sexo</th>\n",
       "      <th>Nasc</th>\n",
       "      <th>Idade</th>\n",
       "      <th>Email</th>\n",
       "      <th>Lat_long</th>\n",
       "      <th>Job</th>\n",
       "      <th>Estado</th>\n",
       "      <th>Renda</th>\n",
       "      <th>Perfil</th>\n",
       "      <th>Ativo01</th>\n",
       "      <th>Ativo02</th>\n",
       "      <th>Ativo03</th>\n",
       "      <th>Ativo04</th>\n",
       "      <th>Ativo05</th>\n",
       "      <th>Ativo06</th>\n",
       "      <th>Ativo07</th>\n",
       "      <th>Nota1</th>\n",
       "      <th>Nota2</th>\n",
       "      <th>Total</th>\n",
       "      <th>Media</th>\n",
       "      <th>DominioDoEmail</th>\n",
       "      <th>NPS</th>\n",
       "      <th>detrator</th>\n",
       "      <th>neutro</th>\n",
       "      <th>promotor</th>\n",
       "    </tr>\n",
       "  </thead>\n",
       "  <tbody>\n",
       "    <tr>\n",
       "      <th>0</th>\n",
       "      <td>id0000001</td>\n",
       "      <td>Eunice Hellen do Vale</td>\n",
       "      <td>Feminino</td>\n",
       "      <td>1970-11-12</td>\n",
       "      <td>51</td>\n",
       "      <td>djones@yahoo.com</td>\n",
       "      <td>(Decimal('24.7024355'), Decimal('-28.038258'))</td>\n",
       "      <td>Technical author</td>\n",
       "      <td>TO</td>\n",
       "      <td>$63.67</td>\n",
       "      <td>Moderado</td>\n",
       "      <td>1174.27</td>\n",
       "      <td>4980.98</td>\n",
       "      <td>2638.24</td>\n",
       "      <td>0.0</td>\n",
       "      <td>4480.91</td>\n",
       "      <td>2329.72</td>\n",
       "      <td>480.72</td>\n",
       "      <td>79.600372</td>\n",
       "      <td>9.802620</td>\n",
       "      <td>16084.84</td>\n",
       "      <td>44</td>\n",
       "      <td>yahoo.com</td>\n",
       "      <td>Detrator</td>\n",
       "      <td>1</td>\n",
       "      <td>0</td>\n",
       "      <td>0</td>\n",
       "    </tr>\n",
       "    <tr>\n",
       "      <th>1</th>\n",
       "      <td>id0000002</td>\n",
       "      <td>Sebastião Castelo Branco Júnior</td>\n",
       "      <td>Masculino</td>\n",
       "      <td>2019-12-10</td>\n",
       "      <td>2</td>\n",
       "      <td>barnesandrea@yahoo.com</td>\n",
       "      <td>(Decimal('21.8589875'), Decimal('122.830566'))</td>\n",
       "      <td>Biochemist, clinical</td>\n",
       "      <td>DF</td>\n",
       "      <td>$21.96</td>\n",
       "      <td>Moderado</td>\n",
       "      <td>842.12</td>\n",
       "      <td>5646.09</td>\n",
       "      <td>3336.07</td>\n",
       "      <td>0.0</td>\n",
       "      <td>5624.22</td>\n",
       "      <td>2669.98</td>\n",
       "      <td>504.17</td>\n",
       "      <td>44.406893</td>\n",
       "      <td>90.512871</td>\n",
       "      <td>18622.65</td>\n",
       "      <td>67</td>\n",
       "      <td>yahoo.com</td>\n",
       "      <td>Neutro</td>\n",
       "      <td>0</td>\n",
       "      <td>1</td>\n",
       "      <td>0</td>\n",
       "    </tr>\n",
       "  </tbody>\n",
       "</table>\n",
       "</div>"
      ]
     },
     "metadata": {},
     "execution_count": 83
    }
   ],
   "metadata": {}
  },
  {
   "cell_type": "code",
   "execution_count": null,
   "source": [
    "#9.9 - Crie uma tabela com total de investimentos de promotores, detratores e neutros em função do perfil.\r\n",
    "df.pivot_table(index='Perfil', columns='NPS', values='Total', aggfunc='sum')"
   ],
   "outputs": [
    {
     "output_type": "execute_result",
     "data": {
      "text/plain": [
       "NPS              Detrator        Neutro     Promotor\n",
       "Perfil                                              \n",
       "Agressivo    1.582073e+08  1.371682e+08  20623624.48\n",
       "Conservador  1.595515e+08  1.339032e+08  18847577.02\n",
       "Moderado     1.556920e+08  1.357760e+08  20109245.58"
      ],
      "text/html": [
       "<div>\n",
       "<style scoped>\n",
       "    .dataframe tbody tr th:only-of-type {\n",
       "        vertical-align: middle;\n",
       "    }\n",
       "\n",
       "    .dataframe tbody tr th {\n",
       "        vertical-align: top;\n",
       "    }\n",
       "\n",
       "    .dataframe thead th {\n",
       "        text-align: right;\n",
       "    }\n",
       "</style>\n",
       "<table border=\"1\" class=\"dataframe\">\n",
       "  <thead>\n",
       "    <tr style=\"text-align: right;\">\n",
       "      <th>NPS</th>\n",
       "      <th>Detrator</th>\n",
       "      <th>Neutro</th>\n",
       "      <th>Promotor</th>\n",
       "    </tr>\n",
       "    <tr>\n",
       "      <th>Perfil</th>\n",
       "      <th></th>\n",
       "      <th></th>\n",
       "      <th></th>\n",
       "    </tr>\n",
       "  </thead>\n",
       "  <tbody>\n",
       "    <tr>\n",
       "      <th>Agressivo</th>\n",
       "      <td>1.582073e+08</td>\n",
       "      <td>1.371682e+08</td>\n",
       "      <td>20623624.48</td>\n",
       "    </tr>\n",
       "    <tr>\n",
       "      <th>Conservador</th>\n",
       "      <td>1.595515e+08</td>\n",
       "      <td>1.339032e+08</td>\n",
       "      <td>18847577.02</td>\n",
       "    </tr>\n",
       "    <tr>\n",
       "      <th>Moderado</th>\n",
       "      <td>1.556920e+08</td>\n",
       "      <td>1.357760e+08</td>\n",
       "      <td>20109245.58</td>\n",
       "    </tr>\n",
       "  </tbody>\n",
       "</table>\n",
       "</div>"
      ]
     },
     "metadata": {},
     "execution_count": 84
    }
   ],
   "metadata": {}
  }
 ],
 "metadata": {
  "kernelspec": {
   "name": "python3",
   "display_name": "Python 3.9.5 64-bit"
  },
  "language_info": {
   "codemirror_mode": {
    "name": "ipython",
    "version": 3
   },
   "file_extension": ".py",
   "mimetype": "text/x-python",
   "name": "python",
   "nbconvert_exporter": "python",
   "pygments_lexer": "ipython3",
   "version": "3.9.5"
  },
  "varInspector": {
   "cols": {
    "lenName": 16,
    "lenType": 16,
    "lenVar": 40
   },
   "kernels_config": {
    "python": {
     "delete_cmd_postfix": "",
     "delete_cmd_prefix": "del ",
     "library": "var_list.py",
     "varRefreshCmd": "print(var_dic_list())"
    },
    "r": {
     "delete_cmd_postfix": ") ",
     "delete_cmd_prefix": "rm(",
     "library": "var_list.r",
     "varRefreshCmd": "cat(var_dic_list()) "
    }
   },
   "types_to_exclude": [
    "module",
    "function",
    "builtin_function_or_method",
    "instance",
    "_Feature"
   ],
   "window_display": false
  },
  "interpreter": {
   "hash": "116c358dbec706133845b493f92a18f181ca55ee4e41f40d929864a2d81eadf0"
  }
 },
 "nbformat": 4,
 "nbformat_minor": 5
}
